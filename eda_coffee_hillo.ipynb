{
 "cells": [
  {
   "cell_type": "markdown",
   "metadata": {},
   "source": [
    "## Import the required libraries"
   ]
  },
  {
   "cell_type": "code",
   "execution_count": null,
   "metadata": {},
   "outputs": [],
   "source": [
    "import pandas as pd\n",
    "import geopandas as gpd\n",
    "import matplotlib.pyplot as plt\n",
    "from shapely.geometry import Point\n",
    "import folium"
   ]
  },
  {
   "cell_type": "markdown",
   "metadata": {},
   "source": [
    "## Create the GeoDataFrame of Hermosillo\n",
    "First, We read the file where the information was located. Then, We filtered the data to get the information of Hermosillo. We also transformed the polygon type to manage decimals."
   ]
  },
  {
   "cell_type": "code",
   "execution_count": null,
   "metadata": {},
   "outputs": [],
   "source": [
    "son_df = gpd.read_file('data/26sonora/26-SONORA/COLONIA.dbf')\n",
    "hillo_df = son_df[son_df.MUNICIPIO == 49]\n",
    "hillo_df.geometry = hillo_df.geometry.to_crs(epsg=4326) # to manage decimals\n",
    "hillo_df.head(3)\n"
   ]
  },
  {
   "cell_type": "markdown",
   "metadata": {},
   "source": [
    "## Get the locations from the web page in order to convert it.\n",
    "In this case, We scrapped the data from the web page of the bussiness. Then, We identified the places of interest.\n",
    "We also used the shapely library to convert the information into a Point Geometry Type. For that goal, We worked with the lat and long."
   ]
  },
  {
   "cell_type": "code",
   "execution_count": null,
   "metadata": {},
   "outputs": [],
   "source": [
    "coffee_loc = pd.read_csv('data/hillo_coffee_loc.csv').drop(columns=['id'])\n",
    "coffee_loc['geometry'] = coffee_loc.apply(lambda row: Point((row.lng, row.lat)), axis=1)\n",
    "coffee_loc.head()"
   ]
  },
  {
   "cell_type": "markdown",
   "metadata": {},
   "source": [
    "## Create the GeoDataFrame of the coffee shops\n",
    "We used GeoDataFrame to transform the data. We define the epsg as 4326 to work with decimals."
   ]
  },
  {
   "cell_type": "code",
   "execution_count": null,
   "metadata": {},
   "outputs": [],
   "source": [
    "hillo_coffee_crs = 'epsg:4326'\n",
    "hillo_coffee_geo = gpd.GeoDataFrame(coffee_loc,\n",
    "crs = hillo_coffee_crs,\n",
    "geometry = coffee_loc.geometry)\n",
    "hillo_coffee_geo.head()"
   ]
  },
  {
   "cell_type": "markdown",
   "metadata": {},
   "source": [
    "## Joined the data of Hermosillo and the coffee shops locations\n",
    "We intersected the data to get the suburbs where there are coffe shops in Hermosillo."
   ]
  },
  {
   "cell_type": "code",
   "execution_count": null,
   "metadata": {},
   "outputs": [],
   "source": [
    "hillo_coffee_gdf = gpd.sjoin(hillo_df, hillo_coffee_geo, predicate='intersects')\n",
    "hillo_coffee_gdf.head(2)"
   ]
  },
  {
   "cell_type": "markdown",
   "metadata": {},
   "source": [
    "## Get the total coffee shops by suburb"
   ]
  },
  {
   "cell_type": "code",
   "execution_count": null,
   "metadata": {},
   "outputs": [],
   "source": [
    "coffee_counts = hillo_coffee_gdf.groupby('NOMBRE').index_right.count().reset_index(level=0)\n",
    "coffee_counts.columns = ['NOMBRE','TOTAL']\n",
    "coffee_counts.head()"
   ]
  },
  {
   "cell_type": "code",
   "execution_count": null,
   "metadata": {},
   "outputs": [],
   "source": [
    "hillo_coffee_counts = pd.merge(hillo_coffee_gdf, coffee_counts, on='NOMBRE')\n",
    "hillo_coffee_counts.head(2)"
   ]
  },
  {
   "cell_type": "markdown",
   "metadata": {},
   "source": [
    "## Show a Map of Hermosillo, Sonora\n",
    "In order to do this, We used folium. We center the map with the information provided for the business.\n",
    "The coords to center the data were, lat: 29.098, lng: -110.950."
   ]
  },
  {
   "cell_type": "code",
   "execution_count": null,
   "metadata": {},
   "outputs": [],
   "source": [
    "hillo_map = folium.Map(location=[29.098, -110.950], zoom_start=12)\n",
    "\n",
    "display(hillo_map)"
   ]
  },
  {
   "cell_type": "markdown",
   "metadata": {},
   "source": [
    "## Add characteristics to create an interactive Choropleth Map\n",
    "Choropleth can be easily created by binding the data between Pandas DataFrames/Series and Geo/TopoJSON geometries."
   ]
  },
  {
   "cell_type": "code",
   "execution_count": null,
   "metadata": {},
   "outputs": [],
   "source": [
    "hillo_map.choropleth(\n",
    "    geo_data=hillo_coffee_counts,\n",
    "    name='geometry',\n",
    "    data=hillo_coffee_counts,\n",
    "    columns=['NOMBRE','TOTAL'],\n",
    "    key_on='feature.properties.NOMBRE',\n",
    "    fill_color='OrRd',\n",
    "    fill_opacity=0.75,\n",
    "    line_opacity=0.5,\n",
    "    legend_name='Number of Coffee Shops by Suburb'\n",
    ")"
   ]
  },
  {
   "cell_type": "markdown",
   "metadata": {},
   "source": [
    "## Show the Interactive Choropleth Map"
   ]
  },
  {
   "cell_type": "code",
   "execution_count": null,
   "metadata": {},
   "outputs": [],
   "source": [
    "folium.LayerControl().add_to(hillo_map)\n",
    "display(hillo_map)"
   ]
  },
  {
   "cell_type": "markdown",
   "metadata": {},
   "source": [
    "## Save map as an html file"
   ]
  },
  {
   "cell_type": "code",
   "execution_count": null,
   "metadata": {},
   "outputs": [],
   "source": [
    "hillo_map.save('coffee_hillo.html')"
   ]
  }
 ],
 "metadata": {
  "kernelspec": {
   "display_name": "Python 3.10.5 ('coffee': venv)",
   "language": "python",
   "name": "python3"
  },
  "language_info": {
   "codemirror_mode": {
    "name": "ipython",
    "version": 3
   },
   "file_extension": ".py",
   "mimetype": "text/x-python",
   "name": "python",
   "nbconvert_exporter": "python",
   "pygments_lexer": "ipython3",
   "version": "3.10.5"
  },
  "orig_nbformat": 4,
  "vscode": {
   "interpreter": {
    "hash": "2263535fef7a574f2e1f4416f8a90b6264a61bdebb495106f4b9b4ffb0ac3cc9"
   }
  }
 },
 "nbformat": 4,
 "nbformat_minor": 2
}
